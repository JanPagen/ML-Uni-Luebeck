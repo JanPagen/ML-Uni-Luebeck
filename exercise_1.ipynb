{
  "cells": [
    {
      "cell_type": "markdown",
      "metadata": {
        "id": "eRnNSghpv34f"
      },
      "source": [
        "# Exercise 1: PCA, ICA and Sparse Coding"
      ]
    },
    {
      "cell_type": "markdown",
      "metadata": {
        "id": "t3sI9DfTv34i"
      },
      "source": [
        "**Note**: Please insert the names of all participating students:\n",
        "\n",
        "1. Jan Pagenkemper\n",
        "2.\n",
        "3.\n",
        "4.\n",
        "5."
      ]
    },
    {
      "cell_type": "markdown",
      "metadata": {
        "id": "kbh3SctRv34j"
      },
      "source": [
        "## Preamble\n",
        "The following code downloads and imports all necessary files and modules into the virtual machine of Colab. Please make sure to execute it before solving this exercise."
      ]
    },
    {
      "cell_type": "code",
      "execution_count": 1,
      "metadata": {
        "colab": {
          "base_uri": "https://localhost:8080/"
        },
        "id": "w_pCcAzSv34j",
        "outputId": "de808ded-9189-4f49-8696-35d880fcbcd3"
      },
      "outputs": [
        {
          "output_type": "stream",
          "name": "stdout",
          "text": [
            "Cloning into 'cs5450'...\n",
            "remote: Enumerating objects: 124, done.\u001b[K\n",
            "remote: Counting objects: 100% (63/63), done.\u001b[K\n",
            "remote: Compressing objects: 100% (50/50), done.\u001b[K\n",
            "remote: Total 124 (delta 37), reused 29 (delta 13), pack-reused 61 (from 1)\u001b[K\n",
            "Receiving objects: 100% (124/124), 27.57 MiB | 14.13 MiB/s, done.\n",
            "Resolving deltas: 100% (64/64), done.\n"
          ]
        }
      ],
      "source": [
        "import sys, os\n",
        "if 'google.colab' in sys.modules:\n",
        "  if os.getcwd() == '/content':\n",
        "    !git clone 'https://github.com/inb-luebeck/cs5450.git'\n",
        "    os.chdir('cs5450')"
      ]
    },
    {
      "cell_type": "markdown",
      "metadata": {
        "id": "TRHBrWQmv34k"
      },
      "source": [
        "## Exercise 1.1: Applying unsupervised methods\n",
        "\n",
        "In this exercise, we will apply three unsupervised methods, namely *Principal Component Analysis (PCA)*, *Independent Component Analysis (ICA)*, and *Sparse Coding (SC)* to image patches taken from handwriting digits and faces.\n",
        "\n",
        "Since implementing [ICA](https://scikit-learn.org/stable/modules/generated/sklearn.decomposition.FastICA.html) and [SC](https://scikit-learn.org/stable/modules/generated/sklearn.decomposition.SparseCoder.html) is rather complex, we will use already existing python packages.\n",
        "\n",
        "We will build on the python starter code given below. You only need to write code at the places indicated by `TODO`.\n",
        "The two given datasets are `mnist.npz` for handwritten digits and `olivetti.npz` for faces. Each dataset contains a multi-dimensional array `data` with the first index corresponding to the observations and the second index corresponding to the features (grayscale pixels). Both datasets contain square-shaped images.\n",
        "\n",
        "Implement the missing parts below. When done correctly, your code should do the following:\n",
        "1. Load the dataset with either handwritten images or faces.\n",
        "2. Enforce mean-free observations by subtracting the mean from the data.\n",
        "3. Randomly draw square-shaped image patches from the data.\n",
        "4. Apply one of the three unsupervised methods (PCA, ICA, or SC).\n",
        "5. Show the resulting set of new basis vectors (i.e., the components for PCA and ICA).\n",
        "6. Reconstruct the original image patches with different subsets of basis vectors.\n",
        "\n",
        "Note that for sparse coding, the basis vectors are not ordered according to some metric (*unlike which method?*). To quickly reconstruct an image with only $i$ non-zero values, you should use the coefficients and basis vectors corresponding to the $i$ highest absolute coefficients (see [numpy.argsort](https://numpy.org/doc/stable/reference/generated/numpy.argsort.html)).\n",
        "\n",
        "In case you are struggeling with the task, here are some helpful tips and hints:\n",
        "1. Useful functions: [`numpy.load`](https://docs.scipy.org/doc/numpy/reference/generated/numpy.load.html), [`ndarray.astype`](https://docs.scipy.org/doc/numpy/reference/generated/numpy.ndarray.astype.html), [`numpy.mean`](https://docs.scipy.org/doc/numpy/reference/generated/numpy.mean.html), [`numpy.linalg.pinv`](https://docs.scipy.org/doc/numpy/reference/generated/numpy.linalg.pinv.html), [`numpy.matmul`](https://docs.scipy.org/doc/numpy/reference/generated/numpy.matmul.html), [`numpy.stack`](https://docs.scipy.org/doc/numpy/reference/generated/numpy.stack.html), `random_patches`, `show_in_grid`, [`PCA`](https://scikit-learn.org/stable/modules/generated/sklearn.decomposition.PCA.html), [`FastICA`](https://scikit-learn.org/stable/modules/generated/sklearn.decomposition.FastICA.html#sklearn.decomposition.FastICA), [`DictionaryLearning`](https://scikit-learn.org/stable/modules/generated/sklearn.decomposition.DictionaryLearning.html#sklearn.decomposition.DictionaryLearning),[`numpy.argsort`](https://numpy.org/doc/stable/reference/generated/numpy.argsort.html)\n",
        "2. **Complete the basis computation and reconstruction for PCA first.**\n",
        "3. To obtain the coefficients $\\vec{x}_{pca}$ and $\\vec{x}_{ica}$, only matrix multiplication is needed. Use \"sparse_encode\" to obtain $\\vec{x}_{sc}$\n",
        "4. Since learning a sparse coding dictionary can take a long time, we provide a pre-computed basis at \"data/sc_basis.npy\" that you only need to load. **Note that the pre-computed basis only works with MNIST and a patch-size of 25!**\n",
        "As a starting point you can use the following initial values:\n",
        "- `dataset=\"mnist\"`\n",
        "- `n_patches=10000`\n",
        "- `patch_size=25`\n",
        "- `n_basis=100`\n",
        "\n",
        "And for Sparse Coding also:\n",
        "- `n_iterations=50`\n",
        "- `n_jobs=-1` and\n",
        "- `verbose=True`"
      ]
    },
    {
      "cell_type": "markdown",
      "metadata": {
        "id": "f1EtOHHGv34l"
      },
      "source": [
        "Import and helper functions. Do not change!"
      ]
    },
    {
      "cell_type": "code",
      "execution_count": 2,
      "metadata": {
        "scrolled": false,
        "id": "ScZ4PxoEv34l"
      },
      "outputs": [],
      "source": [
        "import numpy as np\n",
        "import math\n",
        "import random\n",
        "from sklearn.decomposition import PCA, FastICA, DictionaryLearning\n",
        "from matplotlib import pyplot as plt\n",
        "%matplotlib inline\n",
        "\n",
        "def random_patches(data, img_height, img_width, n_patches, patch_size):\n",
        "    # RANDOMPATCHES draw random square-shaped patches from the data.\n",
        "    #\n",
        "    # INPUT:\n",
        "    #   data : ndarray containing the data (i.e. mnist or olivetti)\n",
        "    #   img_height : height of the images\n",
        "    #   img_width : width of the images\n",
        "    #   n_patches : number of patches to be drawn\n",
        "    #   patch_size : size (both width and height) of the square-shaped patches\n",
        "    #\n",
        "    # OUTPUT:\n",
        "    #   patches : random patches\n",
        "\n",
        "    # reshape data 2d -> 3d\n",
        "    n_images = data.shape[0]\n",
        "    data = data.reshape(n_images, img_height, img_width)\n",
        "\n",
        "    # extract random patches\n",
        "    patches = []#np.zeros((n_patches, patch_size*patch_size))\n",
        "    for i in range(n_patches):\n",
        "        patch_top = random.randint(0, img_height - patch_size)\n",
        "        patch_left = random.randint(0, img_width - patch_size)\n",
        "        p = data[random.randint(0, n_images-1), patch_top:patch_top+patch_size, patch_left:patch_left+patch_size]\n",
        "        patches.append(p)\n",
        "        #patches[i,:] = p[:]\n",
        "\n",
        "    patches = np.stack(patches)\n",
        "    patches = patches.reshape(patches.shape[0], -1) #flatten each patch\n",
        "\n",
        "    return patches\n",
        "\n",
        "def show_in_grid(images, height, width):\n",
        "    # flatten images if necessary\n",
        "    images = images.reshape(images.shape[0], -1)\n",
        "\n",
        "    # normalize patches\n",
        "    images = images / (np.abs(images).max(axis=1, keepdims=True)+1e-6)\n",
        "\n",
        "    # reshape into images\n",
        "    images = images.reshape(-1, height, width)\n",
        "\n",
        "    # make images fit into a rectangular area\n",
        "    grid_width = math.ceil(math.sqrt(images.shape[0]))\n",
        "    grid_height = math.ceil(images.shape[0] / grid_width)\n",
        "\n",
        "    empty_cells = grid_width * grid_height - images.shape[0]\n",
        "\n",
        "    # fill empty cells\n",
        "    if empty_cells > 0:\n",
        "        padding = np.zeros((empty_cells, height, width))\n",
        "        images = np.concatenate((images, padding))\n",
        "\n",
        "    # rearrange basis into grid and also switch width and height so x and y axis are not switched\n",
        "    images = images.reshape(grid_height, grid_width, height, width)\n",
        "    images = images.transpose(0, 3, 1, 2)\n",
        "\n",
        "    plt.figure(figsize = (10,10))\n",
        "    plt.imshow(images.reshape(grid_height*height, grid_width*width), cmap='gray')\n",
        "    plt.show()"
      ]
    },
    {
      "cell_type": "markdown",
      "metadata": {
        "id": "bGVMLdNqv34m"
      },
      "source": [
        "Your solution:"
      ]
    },
    {
      "cell_type": "code",
      "execution_count": 26,
      "metadata": {
        "id": "HFCUeJczv34m"
      },
      "outputs": [],
      "source": [
        "## Define variables\n",
        "\n",
        "# TODO dataset : relative path to the .npz file containing the data\n",
        "dataset = 'data/olivetti.npz' #'data/olivetti.npz'\n",
        "\n",
        "# TODO n_patches : number of random patches to extract from the images\n",
        "n_patches = 10000\n",
        "# TODO patch_size : size (both width and height) of the square-shaped patches\n",
        "patch_size = 25\n",
        "\n",
        "# TODO n_basis : number of new basis vectors\n",
        "n_basis = 100\n",
        "\n",
        "# TODO method : string describing whether to perform pca, ica, or sc\n",
        "method = 'pca'\n",
        "\n",
        "# TODO n_iterations : number of iterations (only for sparse coding)\n",
        "n_iterations = 50\n",
        "\n",
        "SC_LOAD_DICTIONARY = False"
      ]
    },
    {
      "cell_type": "code",
      "execution_count": 46,
      "metadata": {
        "colab": {
          "base_uri": "https://localhost:8080/",
          "height": 830
        },
        "id": "iveO0Mx2v34n",
        "outputId": "d35b1412-259a-4ee9-8dad-ceaaba7fe1c6"
      },
      "outputs": [
        {
          "output_type": "display_data",
          "data": {
            "text/plain": [
              "<Figure size 1000x1000 with 1 Axes>"
            ],
            "image/png": "[encoded data removed]"
          },
          "metadata": {}
        }
      ],
      "source": [
        "## Compute and show the principal components\n",
        "\n",
        "# TODO load dataset\n",
        "data = np.load(dataset)[\"data\"] # load the array \"data\"\n",
        "\n",
        "# TODO convert data to floating point (double precision)\n",
        "data = data.astype(np.float64)\n",
        "# TODO get number of images (observations) and number of pixels (features)\n",
        "n_images, n_pixels = data.shape[0], data.shape[1]\n",
        "\n",
        "# TODO get height and width of the images\n",
        "img_height = 64 # all images are squared\n",
        "img_width = 64\n",
        "assert isinstance(img_height, int) and isinstance(img_width, int), \"Image dimensions need to be integers.\"\n",
        "\n",
        "# TODO enforce mean-free data vectors\n",
        "mean_free_data = data / np.mean(data)\n",
        "\n",
        "# TODO draw random patches from data.\n",
        "patches = random_patches(mean_free_data, img_height, img_width, n_patches, patch_size)\n",
        "\n",
        "# TODO perform the chosen unsupervised method on the drawn patches\n",
        "if method == 'pca':\n",
        "    pca = PCA(n_components=patch_size)\n",
        "    basis = pca.fit_transform(mean_free_data)\n",
        "elif method == 'ica':\n",
        "    basis = -1\n",
        "elif method == 'sc':\n",
        "    if SC_LOAD_DICTIONARY:\n",
        "        basis = -1\n",
        "    else:\n",
        "        basis = -1\n",
        "\n",
        "# TODO show the new set of basis vectors (only the first n_basis)\n",
        "show_in_grid(basis[:n_basis], patch_size, patch_size)"
      ]
    },
    {
      "cell_type": "code",
      "execution_count": 47,
      "metadata": {
        "colab": {
          "base_uri": "https://localhost:8080/",
          "height": 356
        },
        "id": "Z1g3pNoJv34n",
        "outputId": "f03614f1-985b-4196-a67f-1e295cfac11f"
      },
      "outputs": [
        {
          "output_type": "error",
          "ename": "ValueError",
          "evalue": "matmul: Input operand 0 does not have enough dimensions (has 0, gufunc core with signature (n?,k),(k,m?)->(n?,m?) requires 1)",
          "traceback": [
            "\u001b[0;31m---------------------------------------------------------------------------\u001b[0m",
            "\u001b[0;31mValueError\u001b[0m                                Traceback (most recent call last)",
            "\u001b[0;32m<ipython-input-47-0e13f412d8f7>\u001b[0m in \u001b[0;36m<cell line: 11>\u001b[0;34m()\u001b[0m\n\u001b[1;32m      9\u001b[0m \u001b[0;34m\u001b[0m\u001b[0m\n\u001b[1;32m     10\u001b[0m \u001b[0;31m# TODO reconstruct the random patch\u001b[0m\u001b[0;34m\u001b[0m\u001b[0;34m\u001b[0m\u001b[0m\n\u001b[0;32m---> 11\u001b[0;31m \u001b[0mreconstructions\u001b[0m \u001b[0;34m=\u001b[0m \u001b[0;34m[\u001b[0m\u001b[0mpca\u001b[0m\u001b[0;34m.\u001b[0m\u001b[0minverse_transform\u001b[0m\u001b[0;34m(\u001b[0m\u001b[0mp\u001b[0m\u001b[0;34m)\u001b[0m \u001b[0;32mfor\u001b[0m \u001b[0mp\u001b[0m \u001b[0;32min\u001b[0m \u001b[0mrandom_patch\u001b[0m\u001b[0;34m]\u001b[0m\u001b[0;34m\u001b[0m\u001b[0;34m\u001b[0m\u001b[0m\n\u001b[0m\u001b[1;32m     12\u001b[0m \u001b[0;34m\u001b[0m\u001b[0m\n\u001b[1;32m     13\u001b[0m \u001b[0;32mdef\u001b[0m \u001b[0msparse_coding_reconstruction\u001b[0m\u001b[0;34m(\u001b[0m\u001b[0mrandom_patch\u001b[0m\u001b[0;34m,\u001b[0m \u001b[0mbasis\u001b[0m\u001b[0;34m,\u001b[0m \u001b[0mreconstructions\u001b[0m\u001b[0;34m,\u001b[0m \u001b[0mn_basis\u001b[0m\u001b[0;34m)\u001b[0m\u001b[0;34m:\u001b[0m\u001b[0;34m\u001b[0m\u001b[0;34m\u001b[0m\u001b[0m\n",
            "\u001b[0;32m<ipython-input-47-0e13f412d8f7>\u001b[0m in \u001b[0;36m<listcomp>\u001b[0;34m(.0)\u001b[0m\n\u001b[1;32m      9\u001b[0m \u001b[0;34m\u001b[0m\u001b[0m\n\u001b[1;32m     10\u001b[0m \u001b[0;31m# TODO reconstruct the random patch\u001b[0m\u001b[0;34m\u001b[0m\u001b[0;34m\u001b[0m\u001b[0m\n\u001b[0;32m---> 11\u001b[0;31m \u001b[0mreconstructions\u001b[0m \u001b[0;34m=\u001b[0m \u001b[0;34m[\u001b[0m\u001b[0mpca\u001b[0m\u001b[0;34m.\u001b[0m\u001b[0minverse_transform\u001b[0m\u001b[0;34m(\u001b[0m\u001b[0mp\u001b[0m\u001b[0;34m)\u001b[0m \u001b[0;32mfor\u001b[0m \u001b[0mp\u001b[0m \u001b[0;32min\u001b[0m \u001b[0mrandom_patch\u001b[0m\u001b[0;34m]\u001b[0m\u001b[0;34m\u001b[0m\u001b[0;34m\u001b[0m\u001b[0m\n\u001b[0m\u001b[1;32m     12\u001b[0m \u001b[0;34m\u001b[0m\u001b[0m\n\u001b[1;32m     13\u001b[0m \u001b[0;32mdef\u001b[0m \u001b[0msparse_coding_reconstruction\u001b[0m\u001b[0;34m(\u001b[0m\u001b[0mrandom_patch\u001b[0m\u001b[0;34m,\u001b[0m \u001b[0mbasis\u001b[0m\u001b[0;34m,\u001b[0m \u001b[0mreconstructions\u001b[0m\u001b[0;34m,\u001b[0m \u001b[0mn_basis\u001b[0m\u001b[0;34m)\u001b[0m\u001b[0;34m:\u001b[0m\u001b[0;34m\u001b[0m\u001b[0;34m\u001b[0m\u001b[0m\n",
            "\u001b[0;32m/usr/local/lib/python3.10/dist-packages/sklearn/decomposition/_base.py\u001b[0m in \u001b[0;36minverse_transform\u001b[0;34m(self, X)\u001b[0m\n\u001b[1;32m    196\u001b[0m             \u001b[0;32mreturn\u001b[0m \u001b[0mX\u001b[0m \u001b[0;34m@\u001b[0m \u001b[0mscaled_components\u001b[0m \u001b[0;34m+\u001b[0m \u001b[0mself\u001b[0m\u001b[0;34m.\u001b[0m\u001b[0mmean_\u001b[0m\u001b[0;34m\u001b[0m\u001b[0;34m\u001b[0m\u001b[0m\n\u001b[1;32m    197\u001b[0m         \u001b[0;32melse\u001b[0m\u001b[0;34m:\u001b[0m\u001b[0;34m\u001b[0m\u001b[0;34m\u001b[0m\u001b[0m\n\u001b[0;32m--> 198\u001b[0;31m             \u001b[0;32mreturn\u001b[0m \u001b[0mX\u001b[0m \u001b[0;34m@\u001b[0m \u001b[0mself\u001b[0m\u001b[0;34m.\u001b[0m\u001b[0mcomponents_\u001b[0m \u001b[0;34m+\u001b[0m \u001b[0mself\u001b[0m\u001b[0;34m.\u001b[0m\u001b[0mmean_\u001b[0m\u001b[0;34m\u001b[0m\u001b[0;34m\u001b[0m\u001b[0m\n\u001b[0m\u001b[1;32m    199\u001b[0m \u001b[0;34m\u001b[0m\u001b[0m\n\u001b[1;32m    200\u001b[0m     \u001b[0;34m@\u001b[0m\u001b[0mproperty\u001b[0m\u001b[0;34m\u001b[0m\u001b[0;34m\u001b[0m\u001b[0m\n",
            "\u001b[0;31mValueError\u001b[0m: matmul: Input operand 0 does not have enough dimensions (has 0, gufunc core with signature (n?,k),(k,m?)->(n?,m?) requires 1)"
          ]
        }
      ],
      "source": [
        "# RECONSTRUCTION\n",
        "## Use different subsets of the new basis vectors to reconstruct a random patch\n",
        "## This is meant to visualize how including more and more basis vectors increases the information content of the reconstructed image\n",
        "from sklearn.decomposition import sparse_encode\n",
        "\n",
        "# TODO draw a random patch\n",
        "random_patch = patches[random.randint(0, n_patches-1)]\n",
        "\n",
        "\n",
        "# TODO reconstruct the random patch\n",
        "reconstructions = [pca.inverse_transform(p) for p in random_patch]\n",
        "\n",
        "def sparse_coding_reconstruction(random_patch, basis, reconstructions, n_basis):\n",
        "    for i in range(n_basis):\n",
        "        # TODO: only use the first i basis vectors\n",
        "        # TODO: compute the coefficients\n",
        "        # From sparse_encode documentation. The output of sparse_encode\n",
        "        # X ~= code * dictionary\n",
        "        coef = -1\n",
        "        # TODO: compute the reconstruction\n",
        "        x_recon = -1\n",
        "        reconstructions.append(x_recon)\n",
        "\n",
        "    return reconstructions\n",
        "\n",
        "def linear_reconstruction(random_patch, basis, reconstructions, n_basis):\n",
        "    for i in range(n_basis):\n",
        "        # TODO: only use the first i basis vectors\n",
        "        # TODO: compute the inverse basis\n",
        "        # TODO: compute the coefficients\n",
        "        # TODO: compute the reconstruction\n",
        "        x_recon = -1\n",
        "        reconstructions.append(x_recon)\n",
        "\n",
        "    return reconstructions\n",
        "\n",
        "if method == 'sc':\n",
        "    reconstructions = sparse_coding_reconstruction(\n",
        "        random_patch, basis, reconstructions, n_basis\n",
        "    )\n",
        "else:\n",
        "    reconstructions = linear_reconstruction(\n",
        "        random_patch, basis, reconstructions, n_basis\n",
        "    )\n",
        "reconstructions = np.stack(reconstructions)\n",
        "\n",
        "# TODO show the reconstructed patch\n",
        "show_in_grid(reconstructions, patch_size, patch_size)"
      ]
    },
    {
      "cell_type": "markdown",
      "metadata": {
        "id": "Urh2PFHIv34n"
      },
      "source": [
        "*Bonus*: Implement the missing parts in the bonus section. When done correctly, your code additionally should do the following:\n",
        "1. Perform ZCA whitening, whereas $\\vec{x}_{ZCAwhite}=U\\vec{x}_{wht}$ (c.f. equation 1.3 in the lecture notes).\n",
        "2. Visualize the whitened data."
      ]
    },
    {
      "cell_type": "code",
      "execution_count": null,
      "metadata": {
        "id": "ZoGwIc4gv34n"
      },
      "outputs": [],
      "source": [
        "#% TODO epsilon : avoid negative numbers while computing stdDeviations\n",
        "epsilon = 0.1\n",
        "\n",
        "# TODO perform principal component analysis (help pca)\n",
        "# basis = -1 #get basis vector components\n",
        "\n",
        "# TODO compute the covariance matrix of the patches\n",
        "covariance = -1\n",
        "\n",
        "# TODO compute diagonal matrix S containing the standard deviations (c.f. page 6)\n",
        "std_deviations = -1\n",
        "\n",
        "# TODO pca whitening (c.f. equation 1.3)\n",
        "xPCAwhite = -1\n",
        "\n",
        "# TODO zca whitening\n",
        "xZCAwhite = -1\n",
        "\n",
        "# TODO visualize the whitened data\n",
        "# show_in_grid(xZCAwhite[:n_basis], patch_size, patch_size)"
      ]
    },
    {
      "cell_type": "markdown",
      "metadata": {
        "id": "-gj2vGEZv34o"
      },
      "source": [
        "## Exercise 1.2: Comprehension Questions\n",
        "\n",
        "Answer the following comprehension questions either with *right* or *wrong* and briefly explain your decision:\n",
        "1. Regardless of the used method for representation learning (i.e. PCA, ICA, SC), the resulting set of basis vectors depends on the given dataset."
      ]
    },
    {
      "cell_type": "markdown",
      "metadata": {
        "id": "uXsHAN3Av34o"
      },
      "source": [
        "No. Since they are calculated differently they also depend on the algorithm (method)."
      ]
    },
    {
      "cell_type": "markdown",
      "metadata": {
        "id": "AaSmWu1av34o"
      },
      "source": [
        "2. The first principal component has the smallest eigenvalue and covers the largest possible variance of the data."
      ]
    },
    {
      "cell_type": "markdown",
      "metadata": {
        "id": "XOfJcMUYv34o"
      },
      "source": [
        "No. We are looking for the components with the biggest variance."
      ]
    },
    {
      "cell_type": "markdown",
      "metadata": {
        "id": "FGXcwFrwv34o"
      },
      "source": [
        "3. The optimal number of principal components to retain is 42."
      ]
    },
    {
      "cell_type": "markdown",
      "metadata": {
        "id": "QBXUXowBv34o"
      },
      "source": [
        "No. It depends of the number of components and their eigenvalues (variance). This is very dataset-specific."
      ]
    },
    {
      "cell_type": "markdown",
      "metadata": {
        "id": "46j3gMosv34o"
      },
      "source": [
        "4. After whitening, the features of an observation are uncorrelated and have unit variance."
      ]
    },
    {
      "cell_type": "markdown",
      "metadata": {
        "id": "sKTdL8Pzv34o"
      },
      "source": [
        "Yes. Since Whitening scales each component by the inverse square roots of their eigenvalues their variance is unified."
      ]
    },
    {
      "cell_type": "markdown",
      "metadata": {
        "id": "ZVK8Gxclv34o"
      },
      "source": [
        "5. The resulting basis vectors of the ICA (i.e. the independent components) are mutually orthogonal."
      ]
    },
    {
      "cell_type": "markdown",
      "metadata": {
        "id": "APxXNZVrv34o"
      },
      "source": [
        "No. The ICA does not use an linear transformation. The PCA does so."
      ]
    },
    {
      "cell_type": "markdown",
      "metadata": {
        "id": "YaDjAL8dv34o"
      },
      "source": [
        "6. The ICA is an enhancement of the PCA which additionally aims to make the already uncorrelated features statistically independent."
      ]
    },
    {
      "cell_type": "markdown",
      "metadata": {
        "id": "rWhXXuIVv34o"
      },
      "source": [
        "Yes"
      ]
    },
    {
      "cell_type": "markdown",
      "metadata": {
        "id": "ZaM_TSrdv34p"
      },
      "source": [
        "7. The set of basis vectors of the ICA can be over-complete, i.e. more basis vectors than dimensions of the input space."
      ]
    },
    {
      "cell_type": "markdown",
      "metadata": {
        "id": "zk0l6qxHv34p"
      },
      "source": [
        "Yes. If that would minimize the multi-information."
      ]
    },
    {
      "cell_type": "markdown",
      "metadata": {
        "id": "o2I4urLgv34p"
      },
      "source": [
        "8. Sparsity means that only a few basis vectors are used to reconstruct an image."
      ]
    },
    {
      "cell_type": "markdown",
      "metadata": {
        "id": "pdL5wy4lv34p"
      },
      "source": [
        " [Your answer]"
      ]
    },
    {
      "cell_type": "markdown",
      "metadata": {
        "id": "80HjpOIWv34p"
      },
      "source": [
        "9. The optimization problem for SC (c.f. equation 1.9 in the lecture notes) is convex."
      ]
    },
    {
      "cell_type": "markdown",
      "metadata": {
        "id": "OphrG-1zv34p"
      },
      "source": [
        "[Your answer]"
      ]
    },
    {
      "cell_type": "markdown",
      "metadata": {
        "id": "DJnwW6I5v34p"
      },
      "source": [
        "10. Unlike PCA and ICA, SC results in a linear transform of the data."
      ]
    },
    {
      "cell_type": "markdown",
      "metadata": {
        "id": "U5i0a-kXv34p"
      },
      "source": [
        "[Your answer]"
      ]
    }
  ],
  "metadata": {
    "kernelspec": {
      "display_name": "Python 3.9.6 64-bit",
      "language": "python",
      "name": "python3"
    },
    "language_info": {
      "codemirror_mode": {
        "name": "ipython",
        "version": 3
      },
      "file_extension": ".py",
      "mimetype": "text/x-python",
      "name": "python",
      "nbconvert_exporter": "python",
      "pygments_lexer": "ipython3",
      "version": "3.8.10"
    },
    "vscode": {
      "interpreter": {
        "hash": "31f2aee4e71d21fbe5cf8b01ff0e069b9275f58929596ceb00d14d90e3e16cd6"
      }
    },
    "colab": {
      "provenance": []
    }
  },
  "nbformat": 4,
  "nbformat_minor": 0
}